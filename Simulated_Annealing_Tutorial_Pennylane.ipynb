{
 "cells": [
  {
   "cell_type": "markdown",
   "id": "30ed889a",
   "metadata": {},
   "source": [
    "# Optimizing a Variational Quantum Circuit via Simulated Annealing \n",
    "by Mahnoor Fatima ([mahnoorf04@gmail.com](mailto:mahnoorf04@gmail.com)) "
   ]
  },
  {
   "cell_type": "markdown",
   "id": "275df39e",
   "metadata": {},
   "source": [
    "**Simulated annealing** is an optimization algorithm to find the global optima for both bounded and unbounded optimization problems. The algorithm is inspired from the metallic annealing process in which a metal is first heated and then gradually cooled. In this algorithm, the optimizer first explores the solution space haphazardly which allows it to explore a greater range of values; as the temperature 'drops,' the solution space becomes less scattered and the predicted points remain close to the current state of the system.\n",
    "\n",
    "The main advantage is that it allows the determination of the stochastic global maximum of an optimization problem. However, the dowside of this algorithm is that it might return the wrong optimal point. \n",
    "\n",
    "You can read more about simulated annealing and its applications in this [open-source paper](https://projecteuclid.org/journals/statistical-science/volume-8/issue-1/Simulated-Annealing/10.1214/ss/1177011077.full)."
   ]
  },
  {
   "cell_type": "markdown",
   "id": "1b2f4f7d",
   "metadata": {},
   "source": [
    "## Explore the Problem Statement\n",
    "\n",
    "A variational quantum circuit (VQC) is a quantum circuit having parametrized gates such that the behaviour of the circuit can be varied by varying the parameters. Thus, with appropraite parameters, a generic parametrized quantum circuit can be trained to perform a desired operation. \n",
    "\n",
    "This flexibility of VQCs is the inspiration for this problem: training an $n$-qubit VQC for evaluating the Quantum Fourier Transform of a number in the range 0 – $2^n-1$. **Quantum Fourier Transform (QFT)** is itself a unitary operation which evaluates the Fourier transform of a quantum statez. Its matrix representation is as follows:\n",
    "$$\\begin{bmatrix}\n",
    "1 & 1 & \\dots & 1\\\\\n",
    "1 & e^{\\frac{\\iota 2\\pi}{N}} & \\dots & e^{\\frac{\\iota2\\pi(N-1)}{N}}\\\\\n",
    "1 & e^{\\frac{\\iota 2\\pi. 2}{N}} & \\dots & e^{\\frac{\\iota2\\pi. 2(N-1)}{N}}\\\\\n",
    "1 & e^{\\frac{\\iota 2\\pi. 3}{N}} & \\dots & e^{\\frac{\\iota2\\pi.3(N-1)}{N}}\\\\\n",
    "\\vdots & \\vdots & \\dots & \\vdots \\\\\n",
    "1 & e^{\\frac{\\iota 2\\pi.(N-1)}{N}} & \\dots & e^{\\frac{\\iota2\\pi.(N-1)(N-1)}{N}}\\\\\n",
    "\\end{bmatrix},$$\n",
    "where $N$ is the number of qubits of the quantum state.\n",
    "\n",
    "For this tutorial, we will be making a generic $n$-qubit variational quantum circuit with a Hadamard gate and an $R_z(\\theta)$ gate to each qubit. The angle $\\theta$ of each $R_z$ gate comprise the list of parameters to be optimized. An inverse-QFT block is applied to evaluate the error such that the expected output is the input number itself. "
   ]
  },
  {
   "cell_type": "markdown",
   "id": "0d65c7d5",
   "metadata": {},
   "source": [
    "<div>\n",
    "    <img src = './qc_param.png' style = 'width:450px' caption = 'Variational Quantum Circuit for evaluating Quantum Fourier Transform'>\n",
    "</div>"
   ]
  },
  {
   "cell_type": "markdown",
   "id": "434f3969",
   "metadata": {},
   "source": [
    "## Import the Libraries \n",
    "\n",
    "Firstly, we will import the required libraries and packages. "
   ]
  },
  {
   "cell_type": "code",
   "execution_count": 1,
   "id": "7dc27b1f",
   "metadata": {},
   "outputs": [],
   "source": [
    "import pennylane as qml\n",
    "from pennylane import numpy as np\n",
    "from math import exp"
   ]
  },
  {
   "cell_type": "markdown",
   "id": "4a15a636",
   "metadata": {},
   "source": [
    "### Define the Quantum Device\n",
    "\n",
    "We will simulate the circuit on a noiseless simulator:"
   ]
  },
  {
   "cell_type": "markdown",
   "id": "41b28b25",
   "metadata": {},
   "source": [
    "```python\n",
    "dev = qml.device('default.qubit', wires = n)\n",
    "```"
   ]
  },
  {
   "cell_type": "markdown",
   "id": "0a2ff595",
   "metadata": {},
   "source": [
    "### Define the Quantum  Node\n",
    "Next, we will construct the quantum circuit function and wrap it in a Quantum Node."
   ]
  },
  {
   "cell_type": "markdown",
   "id": "211f7628",
   "metadata": {},
   "source": [
    "```python\n",
    "@qml.qnode(dev)\n",
    "def circuit(theta):\n",
    "    for i in range(n):\n",
    "        qml.Hadamard(wires = i)\n",
    "        qml.RZ(theta[i], wires = i)\n",
    "    qml.adjoint(qml.QFT)(wires=range(n))\n",
    "    return qml.probs(wires = range(n))\n",
    "```"
   ]
  },
  {
   "cell_type": "markdown",
   "id": "d655d8ac",
   "metadata": {},
   "source": [
    "### Define the Cost Function\n",
    "\n",
    "\n",
    "**Mean Square Error (MSE)** is one of the most common cost functions and is given by:\n",
    "$$MSE = \\sum_{i=0}^{N-1} (y_i-\\hat{y}_i)^2$$\n",
    "where `y` is the predicted output array and `ŷ` is the expected output array. \n",
    "\n",
    "For the given problem, the expected output `ŷ` is a $2^n$-sized array with all entries equal to zero except for the $m$-index entry, which is $1$, i.e., we want the number $m$ to be evaluated with an absolute certainty. "
   ]
  },
  {
   "cell_type": "markdown",
   "id": "75853026",
   "metadata": {},
   "source": [
    "```python\n",
    "def cost(params):\n",
    "    y = np.zeros(2**n)\n",
    "    y[m] = 1\n",
    "    probs = circuit(params)\n",
    "    return np.sum(np.square((y-probs)))\n",
    "```"
   ]
  },
  {
   "cell_type": "markdown",
   "id": "b5f09e56",
   "metadata": {},
   "source": [
    "## Implement the Simulated Annealing Algorithm\n",
    "\n",
    "The procedure for simulated annealing is as follows:\n",
    "- A random point is selected as the initial state of the system.\n",
    "\n",
    "- As the temperature is initially high, the algorithm searches the solution space haphazardly and evaluates the cost value for various states. \n",
    "  - If the cost value for a certain state is less than for the current optimal state, the optimal state of the circuit is updated.\n",
    "- The new temperature of the system is evaluated by using the following equation:\n",
    "  $$ t_{i} = \\frac{t_o}{i+1}$$\n",
    "  where $i$ is the number of the current iteration. \n",
    "  \n",
    "  As the temperature of the system decreases, the algorithm takes smaller strides across the solution space.\n",
    "\n",
    "> **Note:** As discussed earlier, simulated annealing can optimize both bounded and unbounded problems. For this tutorial, we have not bounded the parameters because of the periodicity of the angle $\\theta \\epsilon [0, \\pi]$ of rotation.  \n",
    "\n",
    "The code-based implementation of the algorithm is as follows:"
   ]
  },
  {
   "cell_type": "code",
   "execution_count": 9,
   "id": "329df99e",
   "metadata": {},
   "outputs": [],
   "source": [
    "def simulated_annealing(objective, param_range, temperature, iterations, learning_rate):\n",
    "        # Define initial state\n",
    "        s0 = np.empty(np.shape(param_range)[0])\n",
    "        s_eval = 0 \n",
    "        for i in range(len(s0)):\n",
    "            s0[i] = param_range[i][0] + np.random.random()* (param_range[i][1] - param_range[i][0])\n",
    "\n",
    "        # Evaluate current state of the system \n",
    "        s = s0\n",
    "        s_eval = objective(s0)\n",
    "\n",
    "        for k in range(iterations):\n",
    "            # Find a candidate element\n",
    "            s_new = np.empty(np.shape(param_range)[0])\n",
    "            for i in range(len(s_new)):\n",
    "                rng = param_range[i][1] - param_range[i][0]     # Range of the variable\n",
    "                s_new[i] = s[i] + np.random.uniform(param_range[i][0] - rng/2, param_range[i][0] + rng/2)*learning_rate\n",
    "\n",
    "            # Evaluate the candidate element        \n",
    "            s_new_eval = objective(s_new)\n",
    "            # Update the state of the system\n",
    "            if s_new_eval < s_eval:\n",
    "                s = s_new\n",
    "                s_eval = s_new_eval\n",
    "\n",
    "            delta = s_new_eval - s_eval\n",
    "            t = temperature/float(k+1) \n",
    "\n",
    "            # Metropolis acceptance criterion\n",
    "            metropolis = exp(-delta/t)\n",
    "            if metropolis > np.random.uniform():\n",
    "                s = s_new\n",
    "                s_eval = s_new_eval\n",
    "        return s, s_eval"
   ]
  },
  {
   "cell_type": "markdown",
   "id": "18f5ace7",
   "metadata": {},
   "source": [
    "## Optimization Module\n",
    "\n",
    "As a final step of implementing the solution of the given problem, we encapsulate the entire optimization problem in a function. This will allow us to quick-run the problem for different parameters without the hassle of updating the parameters. Also, the quantum circuit has been defined within the function to keep the variables (like `m` and `n`) accessible for all functions. (An alternate approach would be to pass these functions as an argument, but for this tutorial, the latter is the better approach.)"
   ]
  },
  {
   "cell_type": "code",
   "execution_count": 12,
   "id": "23956a90",
   "metadata": {},
   "outputs": [],
   "source": [
    "def quantum_fourier_transform(n, m, temperature, steps = 5000, learning_rate = 0.01):\n",
    "    ''' A function to generate the Quantum Fourier Transform of a number m via a quantum circuit with n-qubits. \n",
    "    \n",
    "    Args:\n",
    "    n: It is the number of qubits in the variational quantum circuit.\n",
    "    m: It is the number used to train the variational quantum circuit. Its value ranges from 0 to 2^n - 1\n",
    "    steps: It is the number of iterations of the optimzation process.\n",
    "    learning_rate: This is the step size of the optimizer.\n",
    "    \n",
    "    Return value:\n",
    "    circuit: The variational quantum circuit comprising n qubits.\n",
    "    param_arr: Shape = (steps, n). It consists of the values of the parameters after each optimization step.\n",
    "    cost_arr: Size = n. It consists of the cost value of the circuit after each optimization step.\n",
    "    cost: The cost function\n",
    "    '''\n",
    "    # Task 2: Load a Quantum Device\n",
    "    dev = qml.device('default.qubit', wires = n)\n",
    "    \n",
    "    # Task 3-6: Create the Quantum Circuit\n",
    "    @qml.qnode(dev)\n",
    "    def circuit(theta):\n",
    "        for i in range(n):\n",
    "            qml.Hadamard(wires = i)\n",
    "            qml.RZ(theta[i], wires = i)\n",
    "        qml.adjoint(qml.QFT)(wires=range(n))\n",
    "        return qml.probs(wires = range(n))\n",
    "    \n",
    "    # Task 7: Create the Cost Function\n",
    "    def cost(params):\n",
    "        y = np.zeros(2**n)\n",
    "        y[m] = 1\n",
    "        probs = circuit(params)\n",
    "        return np.sum(np.square((y-probs)))\n",
    "    \n",
    "    # Defining the bounds of the angles\n",
    "    bounds = np.empty((n, 2))\n",
    "    for bound in bounds:\n",
    "        bound[0] = 0\n",
    "        bound[1] = 2*np.pi\n",
    "        \n",
    "    angles, cost = simulated_annealing(cost, bounds, temperature, steps, learning_rate)\n",
    "    angles = angles%(np.pi*2)\n",
    "\n",
    "    # Print the results of optimization\n",
    "    print(\"Optimized rotation angles: \", angles)\n",
    "    print(\"Cost value at optimized parameters: \",cost)\n",
    "    \n",
    "    return circuit, angles, cost"
   ]
  },
  {
   "cell_type": "markdown",
   "id": "ba9ca33d",
   "metadata": {},
   "source": [
    "## Optimization of the Quantum Circuit\n",
    "\n",
    "Now, let's test-run the function for a random set of parameters to evaluate it's performance. "
   ]
  },
  {
   "cell_type": "code",
   "execution_count": 15,
   "id": "38a49783",
   "metadata": {},
   "outputs": [
    {
     "name": "stdout",
     "output_type": "stream",
     "text": [
      "Optimized rotation angles:  [3.11822442 4.87195537]\n",
      "Cost value at optimized parameters:  8.24324861063424e-05\n"
     ]
    },
    {
     "data": {
      "text/plain": [
       "(<Figure size 432x216 with 1 Axes>, <Axes:>)"
      ]
     },
     "execution_count": 15,
     "metadata": {},
     "output_type": "execute_result"
    },
    {
     "data": {
      "image/png": "[encoded data removed]",
      "text/plain": [
       "<Figure size 432x216 with 1 Axes>"
      ]
     },
     "metadata": {},
     "output_type": "display_data"
    }
   ],
   "source": [
    "circuit, angles, cost = quantum_fourier_transform(2, 3, 5, steps = 10000, learning_rate = 0.01)\n",
    "qml.draw_mpl(circuit)(angles)"
   ]
  }
 ],
 "metadata": {
  "kernelspec": {
   "display_name": "Python 3 (ipykernel)",
   "language": "python",
   "name": "python3"
  },
  "language_info": {
   "codemirror_mode": {
    "name": "ipython",
    "version": 3
   },
   "file_extension": ".py",
   "mimetype": "text/x-python",
   "name": "python",
   "nbconvert_exporter": "python",
   "pygments_lexer": "ipython3",
   "version": "3.8.10"
  }
 },
 "nbformat": 4,
 "nbformat_minor": 5
}
